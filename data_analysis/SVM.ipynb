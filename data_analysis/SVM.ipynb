{
 "cells": [
  {
   "cell_type": "code",
   "execution_count": 16,
   "id": "25dd30c0",
   "metadata": {},
   "outputs": [],
   "source": [
    "import numpy as np\n",
    "import pandas as pd\n",
    "import os\n",
    "import matplotlib.pyplot as plt\n",
    "import sklearn"
   ]
  },
  {
   "cell_type": "code",
   "execution_count": 82,
   "id": "06baee13",
   "metadata": {},
   "outputs": [
    {
     "name": "stdout",
     "output_type": "stream",
     "text": [
      "1 1537\n",
      "3072 4608\n",
      "6134 7670\n",
      "9205 10741\n",
      "12276 13812\n",
      "15337 16873\n",
      "18407 19942\n",
      "21478 23014\n",
      "24548 26084\n",
      "27619 29155\n",
      "30689 32225\n",
      "33751 35288\n",
      "36823 38359\n",
      "39894 41430\n",
      "42965 44501\n",
      "46036 47572\n",
      "49107 50642\n",
      "52177 53713\n",
      "55248 56784\n",
      "58318 59854\n",
      "61379 62915\n",
      "64449 65984\n",
      "67520 69056\n",
      "70591 72127\n",
      "73662 75198\n",
      "76733 78269\n",
      "79804 81340\n",
      "82875 84410\n",
      "85935 87471\n",
      "89006 90542\n",
      "92077 93612\n",
      "95147 96683\n",
      "98218 99753\n",
      "101288 102824\n",
      "104359 105895\n",
      "107429 108965\n",
      "110500 112036\n",
      "113571 115108\n",
      "116643 118179\n",
      "119705 121241\n",
      "122776 124312\n",
      "125847 127382\n",
      "128917 130453\n",
      "131987 133523\n",
      "135048 136584\n",
      "138119 139654\n",
      "141189 142612\n",
      "144147 145684\n",
      "147218 148754\n",
      "150289 151825\n",
      "153360 154896\n"
     ]
    }
   ],
   "source": [
    "# Only use the data generated during preparation process to classify\n",
    "status = 1 \n",
    "df = pd.read_csv('data/Processed/EMG/SS2023_FukuS_Session1_Shimmer_F16C_Calibrated_SD.csv') #ステータスが1になるデータを取得\n",
    "\n",
    "window_percentage = 1\n",
    "\n",
    "window_length = []\n",
    "for i in range(1, 52):\n",
    "    window_length.append(len(df[df.order == i]))\n",
    "\n",
    "preparation_window_length = []\n",
    "for i in range(1, 52):\n",
    "    action = df[df.order == i]\n",
    "    preparation_window_length.append(len(action[action.status == 1]))\n",
    "\n",
    "action_end_point = []\n",
    "preparation_end_point = []\n",
    "accu_1 = 0\n",
    "accu_2 = 0\n",
    "for i, length in enumerate(preparation_window_length):\n",
    "    preparation_end_point.append(accu_1 + length)\n",
    "    accu_1 += window_length[i] - 1\n",
    "    action_end_point.append(accu_1)\n",
    "    \n",
    "selected_window_size = []\n",
    "for length in preparation_window_length:\n",
    "    selected_window_size.append(int(length * window_percentage))\n",
    "selected_indexes = []\n",
    "\n",
    "for i, size in enumerate(selected_window_size):\n",
    "    selected_indexes.append(np.arange(preparation_end_point[i] - size + 1, preparation_end_point[i] + 1))\n",
    "    print(preparation_end_point[i] - size + 1, preparation_end_point[i] + 1)\n",
    "selected_indexes = np.concatenate(selected_indexes)\n",
    "\n",
    "ch1 = np.array(df.CH1)[selected_indexes]\n",
    "ch2 = np.array(df.CH2)[selected_indexes]\n",
    "target = np.array(df.actions)[selected_indexes]\n",
    "target = target.reshape(1, -1)\n",
    "\n",
    "data = np.stack((ch1, ch2))\n",
    "\n",
    "from sklearn.model_selection import train_test_split\n",
    "x_train, x_test, y_train, y_test = train_test_split(data.T, target.T, test_size=0.3, random_state=0)\n"
   ]
  },
  {
   "cell_type": "code",
   "execution_count": 83,
   "id": "863275cd",
   "metadata": {},
   "outputs": [
    {
     "name": "stderr",
     "output_type": "stream",
     "text": [
      "/Users/celia/virtualenvs/jupyter/lib/python3.8/site-packages/sklearn/utils/validation.py:1143: DataConversionWarning: A column-vector y was passed when a 1d array was expected. Please change the shape of y to (n_samples, ), for example using ravel().\n",
      "  y = column_or_1d(y, warn=True)\n",
      "/Users/celia/virtualenvs/jupyter/lib/python3.8/site-packages/sklearn/utils/validation.py:1143: DataConversionWarning: A column-vector y was passed when a 1d array was expected. Please change the shape of y to (n_samples, ), for example using ravel().\n",
      "  y = column_or_1d(y, warn=True)\n",
      "/Users/celia/virtualenvs/jupyter/lib/python3.8/site-packages/sklearn/utils/validation.py:1143: DataConversionWarning: A column-vector y was passed when a 1d array was expected. Please change the shape of y to (n_samples, ), for example using ravel().\n",
      "  y = column_or_1d(y, warn=True)\n",
      "/Users/celia/virtualenvs/jupyter/lib/python3.8/site-packages/sklearn/utils/validation.py:1143: DataConversionWarning: A column-vector y was passed when a 1d array was expected. Please change the shape of y to (n_samples, ), for example using ravel().\n",
      "  y = column_or_1d(y, warn=True)\n",
      "/Users/celia/virtualenvs/jupyter/lib/python3.8/site-packages/sklearn/utils/validation.py:1143: DataConversionWarning: A column-vector y was passed when a 1d array was expected. Please change the shape of y to (n_samples, ), for example using ravel().\n",
      "  y = column_or_1d(y, warn=True)\n"
     ]
    },
    {
     "name": "stdout",
     "output_type": "stream",
     "text": [
      "[0.37324214 0.36499616 0.3722833  0.37710158 0.37895544]\n",
      "Mean accuracy: 0.3733157256075468 (+/-0.002412731923009958)\n"
     ]
    }
   ],
   "source": [
    "from sklearn.model_selection import cross_val_score, KFold\n",
    "from scipy.stats import sem\n",
    "\n",
    "from sklearn.svm import SVC\n",
    "svc_1 = SVC(kernel='linear')\n",
    "\n",
    "def evaluate_cross_validation(clf, x, y, K):                        \n",
    "    cv = KFold(n_splits=K, random_state=0,shuffle=True)\n",
    "    accuracy = cross_val_score(clf,x,y,cv=cv, scoring='accuracy')\n",
    "    print(accuracy)\n",
    "    print (\"Mean accuracy: {} (+/-{})\".format( np.mean (accuracy), sem(accuracy)))\n",
    "\n",
    "evaluate_cross_validation(svc_1, data.T, target.T , 5)"
   ]
  },
  {
   "cell_type": "code",
   "execution_count": 81,
   "id": "8a1ca2b2",
   "metadata": {},
   "outputs": [
    {
     "name": "stderr",
     "output_type": "stream",
     "text": [
      "/Users/celia/virtualenvs/jupyter/lib/python3.8/site-packages/sklearn/utils/validation.py:1143: DataConversionWarning: A column-vector y was passed when a 1d array was expected. Please change the shape of y to (n_samples, ), for example using ravel().\n",
      "  y = column_or_1d(y, warn=True)\n",
      "/Users/celia/virtualenvs/jupyter/lib/python3.8/site-packages/sklearn/utils/validation.py:1143: DataConversionWarning: A column-vector y was passed when a 1d array was expected. Please change the shape of y to (n_samples, ), for example using ravel().\n",
      "  y = column_or_1d(y, warn=True)\n",
      "/Users/celia/virtualenvs/jupyter/lib/python3.8/site-packages/sklearn/utils/validation.py:1143: DataConversionWarning: A column-vector y was passed when a 1d array was expected. Please change the shape of y to (n_samples, ), for example using ravel().\n",
      "  y = column_or_1d(y, warn=True)\n",
      "/Users/celia/virtualenvs/jupyter/lib/python3.8/site-packages/sklearn/utils/validation.py:1143: DataConversionWarning: A column-vector y was passed when a 1d array was expected. Please change the shape of y to (n_samples, ), for example using ravel().\n",
      "  y = column_or_1d(y, warn=True)\n",
      "/Users/celia/virtualenvs/jupyter/lib/python3.8/site-packages/sklearn/utils/validation.py:1143: DataConversionWarning: A column-vector y was passed when a 1d array was expected. Please change the shape of y to (n_samples, ), for example using ravel().\n",
      "  y = column_or_1d(y, warn=True)\n"
     ]
    },
    {
     "name": "stdout",
     "output_type": "stream",
     "text": [
      "[0.38115331 0.38537271 0.37271449 0.37352941 0.37723785]\n",
      "Mean accuracy: 0.3780015539512448 (+/-0.0023749096960632163)\n"
     ]
    }
   ],
   "source": [
    "from sklearn.model_selection import cross_val_score, KFold\n",
    "from scipy.stats import sem\n",
    "\n",
    "from sklearn.svm import SVC\n",
    "svc_1 = SVC(kernel='linear')\n",
    "\n",
    "def evaluate_cross_validation(clf, x, y, K):                        \n",
    "    cv = KFold(n_splits=K, random_state=0,shuffle=True)\n",
    "    accuracy = cross_val_score(clf,x,y,cv=cv, scoring='accuracy')\n",
    "    print(accuracy)\n",
    "    print (\"Mean accuracy: {} (+/-{})\".format( np.mean (accuracy), sem(accuracy)))\n",
    "\n",
    "evaluate_cross_validation(svc_1, data.T, target.T , 5)"
   ]
  },
  {
   "cell_type": "code",
   "execution_count": 79,
   "id": "bb0fe49e",
   "metadata": {},
   "outputs": [
    {
     "name": "stderr",
     "output_type": "stream",
     "text": [
      "/Users/celia/virtualenvs/jupyter/lib/python3.8/site-packages/sklearn/utils/validation.py:1143: DataConversionWarning: A column-vector y was passed when a 1d array was expected. Please change the shape of y to (n_samples, ), for example using ravel().\n",
      "  y = column_or_1d(y, warn=True)\n",
      "/Users/celia/virtualenvs/jupyter/lib/python3.8/site-packages/sklearn/utils/validation.py:1143: DataConversionWarning: A column-vector y was passed when a 1d array was expected. Please change the shape of y to (n_samples, ), for example using ravel().\n",
      "  y = column_or_1d(y, warn=True)\n",
      "/Users/celia/virtualenvs/jupyter/lib/python3.8/site-packages/sklearn/utils/validation.py:1143: DataConversionWarning: A column-vector y was passed when a 1d array was expected. Please change the shape of y to (n_samples, ), for example using ravel().\n",
      "  y = column_or_1d(y, warn=True)\n",
      "/Users/celia/virtualenvs/jupyter/lib/python3.8/site-packages/sklearn/utils/validation.py:1143: DataConversionWarning: A column-vector y was passed when a 1d array was expected. Please change the shape of y to (n_samples, ), for example using ravel().\n",
      "  y = column_or_1d(y, warn=True)\n",
      "/Users/celia/virtualenvs/jupyter/lib/python3.8/site-packages/sklearn/utils/validation.py:1143: DataConversionWarning: A column-vector y was passed when a 1d array was expected. Please change the shape of y to (n_samples, ), for example using ravel().\n",
      "  y = column_or_1d(y, warn=True)\n"
     ]
    },
    {
     "name": "stdout",
     "output_type": "stream",
     "text": [
      "[0.37003841 0.368758   0.37878788 0.37089202 0.37673426]\n",
      "Mean accuracy: 0.3730421141382105 (+/-0.001982983693179724)\n"
     ]
    }
   ],
   "source": [
    "from sklearn.model_selection import cross_val_score, KFold\n",
    "from scipy.stats import sem\n",
    "\n",
    "from sklearn.svm import SVC\n",
    "svc_1 = SVC(kernel='linear')\n",
    "\n",
    "def evaluate_cross_validation(clf, x, y, K):                        \n",
    "    cv = KFold(n_splits=K, random_state=0,shuffle=True)\n",
    "    accuracy = cross_val_score(clf,x,y,cv=cv, scoring='accuracy')\n",
    "    print(accuracy)\n",
    "    print (\"Mean accuracy: {} (+/-{})\".format( np.mean (accuracy), sem(accuracy)))\n",
    "\n",
    "evaluate_cross_validation(svc_1, data.T, target.T , 5)"
   ]
  },
  {
   "cell_type": "code",
   "execution_count": 88,
   "id": "fb85329d",
   "metadata": {},
   "outputs": [
    {
     "data": {
      "text/plain": [
       "0.2940883172671252"
      ]
     },
     "execution_count": 88,
     "metadata": {},
     "output_type": "execute_result"
    }
   ],
   "source": [
    "len(np.argwhere(target == 2)) / len(target.T)"
   ]
  }
 ],
 "metadata": {
  "kernelspec": {
   "display_name": "Python 3 (ipykernel)",
   "language": "python",
   "name": "python3"
  },
  "language_info": {
   "codemirror_mode": {
    "name": "ipython",
    "version": 3
   },
   "file_extension": ".py",
   "mimetype": "text/x-python",
   "name": "python",
   "nbconvert_exporter": "python",
   "pygments_lexer": "ipython3",
   "version": "3.8.15"
  }
 },
 "nbformat": 4,
 "nbformat_minor": 5
}
