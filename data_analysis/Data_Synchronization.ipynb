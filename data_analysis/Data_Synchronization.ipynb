{
 "cells": [
  {
   "cell_type": "code",
   "execution_count": 40,
   "id": "3d17f13c",
   "metadata": {},
   "outputs": [],
   "source": [
    "import numpy as np\n",
    "import pandas as pd\n",
    "import os\n",
    "import matplotlib.pyplot as plt"
   ]
  },
  {
   "cell_type": "code",
   "execution_count": 41,
   "id": "596fca8b",
   "metadata": {},
   "outputs": [],
   "source": [
    "# detection the change\n",
    "def trigger_detection(data, threshold, start=0, end=-1):\n",
    "    flag = False\n",
    "    intervals = []\n",
    "    if end < start:\n",
    "        end = data.shape[0] #csvファイルの終わり\n",
    "\n",
    "    for i in np.arange(start, end): #startからendまで間隔1ずつ\n",
    "        if (data[i] < threshold): \n",
    "            if flag == False: \n",
    "                flag = True\n",
    "                s = i\n",
    "            else:\n",
    "                if data[i+1] > threshold:\n",
    "                    e = i\n",
    "                    intervals.append((s, e))\n",
    "                    flag = False\n",
    "    return np.array(intervals)[:, 0]"
   ]
  },
  {
   "cell_type": "code",
   "execution_count": 42,
   "id": "b901b954",
   "metadata": {},
   "outputs": [],
   "source": [
    "# paths were the raw data is パスを調べる\n",
    "root_path = 'data/'\n",
    "shimmer_path = os.path.join(root_path, 'Shimmer')\n",
    "\n",
    "# list all files (ignoring the hidden macos file)\n",
    "shimmer_files = [x for x in os.listdir(shimmer_path) if x.endswith('.csv')]"
   ]
  },
  {
   "cell_type": "code",
   "execution_count": 43,
   "id": "7def1173",
   "metadata": {},
   "outputs": [
    {
     "data": {
      "text/plain": [
       "['SS2023_FukuS_Session1_Shimmer_F16C_Calibrated_SD.csv',\n",
       " 'SS2023_FukuS_Session1_Shimmer_895A_Calibrated_SD.csv',\n",
       " 'SS2023_FukuS_Session1_Shimmer_F0BA_Calibrated_SD.csv']"
      ]
     },
     "execution_count": 43,
     "metadata": {},
     "output_type": "execute_result"
    }
   ],
   "source": [
    "shimmer_files"
   ]
  },
  {
   "cell_type": "code",
   "execution_count": 44,
   "id": "47e2f94f",
   "metadata": {},
   "outputs": [],
   "source": [
    "# paths\n",
    "trigger_index = 1\n",
    "trigger_path = shimmer_files[trigger_index]\n",
    "emg_path = [x for i,x in enumerate(shimmer_files) if i != trigger_index] \n",
    "\n",
    "# paths were the preprocessed data should be\n",
    "out_path = os.path.join(root_path, 'Segmented')\n",
    "emg_out_path = os.path.join(out_path, 'EMG')\n",
    "\n",
    "# check if the output folders exist and create them if necessary\n",
    "for folder in [out_path, emg_out_path]:\n",
    "    if not os.path.exists(folder):\n",
    "        os.mkdir(folder)"
   ]
  },
  {
   "cell_type": "code",
   "execution_count": 45,
   "id": "1bcd425d",
   "metadata": {},
   "outputs": [],
   "source": [
    "# trigger loading and detection\n",
    "df = pd.read_csv(os.path.join(shimmer_path, trigger_path), skiprows=[0,2])\n",
    "columns = df.columns\n",
    "\n",
    "timestamps = np.array(df[columns[0]])\n",
    "trigger_values = np.array(df[columns[1]])\n",
    "\n",
    "\n",
    "trigger_pos = trigger_detection(trigger_values, 500, start=168000)\n",
    "trigger_timestamps = timestamps[trigger_pos]"
   ]
  },
  {
   "cell_type": "code",
   "execution_count": 47,
   "id": "2e713e95",
   "metadata": {},
   "outputs": [],
   "source": [
    "psychopy_df = pd.read_csv('data/PsychoPy/11111_Fukushima_2023-02-28_18h16.26.652.csv')"
   ]
  },
  {
   "cell_type": "code",
   "execution_count": 48,
   "id": "e1d8927c",
   "metadata": {},
   "outputs": [],
   "source": [
    "# segmenting the Fukushima's EMG data\n",
    "file_name = ('data/Shimmer/SS2023_FukuS_Session1_Shimmer_F16C_Calibrated_SD.csv')\n",
    "out_path = os.path.join(emg_out_path, 'SS2023_FukuS_Session1_Shimmer_F16C_Calibrated_SD.csv')\n",
    "\n",
    "df = pd.read_csv(file_name, skiprows=[0, 2])\n",
    "columns = df.columns\n",
    "\n",
    "timestamps = np.array(df[columns[0]])\n",
    "emg_ch1 = np.array(df[columns[2]])\n",
    "emg_ch2 = np.array(df[columns[3]])\n",
    "\n",
    "column_name = []\n",
    "for i in range(1, 52):\n",
    "    column_name.append('Action'+ str(i) + '_gt_2')\n",
    "\n",
    "action_list = []\n",
    "    \n",
    "for i, name in enumerate(column_name):\n",
    "    action_list.append(psychopy_df[name][i+1])\n",
    "\n",
    "out_timestamps = []\n",
    "out_ch1 = []\n",
    "out_ch2 = []\n",
    "out_order = []\n",
    "out_actions = []\n",
    "out_status =[]\n",
    "\n",
    "start_flag = 0\n",
    "for i, time in enumerate(trigger_timestamps): \n",
    "    if start_flag == 0:\n",
    "        start_pos = np.argwhere(timestamps >= time)[0, 0] \n",
    "        mid_pos = np.argwhere(timestamps >= trigger_timestamps[i+1])[0, 0]\n",
    "        end_pos = np.argwhere(timestamps >= trigger_timestamps[i+2])[0, 0]\n",
    "\n",
    "        for pos in range(start_pos, mid_pos):\n",
    "            out_timestamps.append(timestamps[pos])\n",
    "            out_ch1.append(emg_ch1[pos])\n",
    "            out_ch2.append(emg_ch2[pos])\n",
    "            out_order.append(int(i/3 + 1))\n",
    "            out_actions.append(int(action_list[int(i/3)]))\n",
    "            out_status.append(1)\n",
    "\n",
    "        for pos in range(mid_pos, end_pos):\n",
    "            out_timestamps.append(timestamps[pos])\n",
    "            out_ch1.append(emg_ch1[pos])\n",
    "            out_ch2.append(emg_ch2[pos])\n",
    "            out_order.append(int(i/3 + 1))\n",
    "            out_actions.append(int(action_list[int(i/3)]))\n",
    "            out_status.append(2)\n",
    "        start_flag = 1\n",
    "\n",
    "    elif start_flag == 1:\n",
    "        start_flag = 2\n",
    "    else:\n",
    "        start_flag = 0\n",
    "\n",
    "df = pd.DataFrame({'timestampSync_UNIX': out_timestamps, 'CH1': out_ch1, 'CH2': out_ch2, 'order': out_order, 'actions': out_actions, 'status': out_status})\n",
    "df.to_csv(out_path)"
   ]
  },
  {
   "cell_type": "code",
   "execution_count": 49,
   "id": "661be30e",
   "metadata": {},
   "outputs": [],
   "source": [
    "# segmenting the Otasan'sEMG data\n",
    "file_name = ('data/Shimmer/SS2023_FukuS_Session1_Shimmer_F0BA_Calibrated_SD.csv')\n",
    "out_path = os.path.join(emg_out_path, 'SS2023_FukuS_Session1_Shimmer_F0BA_Calibrated_SD.csv')\n",
    "\n",
    "df = pd.read_csv(file_name, skiprows=[0, 2])\n",
    "columns = df.columns\n",
    "\n",
    "timestamps = np.array(df[columns[0]])\n",
    "emg_ch1 = np.array(df[columns[2]])\n",
    "emg_ch2 = np.array(df[columns[3]])\n",
    "\n",
    "column_name = []\n",
    "for i in range(1, 52):\n",
    "    column_name.append('Action'+ str(i) + '_gt_1')\n",
    "\n",
    "action_list = []\n",
    "    \n",
    "for i, name in enumerate(column_name):\n",
    "    action_list.append(psychopy_df[name][i+1])\n",
    "\n",
    "out_timestamps = []\n",
    "out_ch1 = []\n",
    "out_ch2 = []\n",
    "out_order = []\n",
    "out_actions = []\n",
    "out_status =[]\n",
    "\n",
    "start_flag = 0\n",
    "for i, time in enumerate(trigger_timestamps): \n",
    "    if start_flag == 0:\n",
    "        start_pos = np.argwhere(timestamps >= time)[0, 0] \n",
    "        mid_pos = np.argwhere(timestamps >= trigger_timestamps[i+1])[0, 0]\n",
    "        end_pos = np.argwhere(timestamps >= trigger_timestamps[i+2])[0, 0]\n",
    "\n",
    "        for pos in range(start_pos, mid_pos):\n",
    "            out_timestamps.append(timestamps[pos])\n",
    "            out_ch1.append(emg_ch1[pos])\n",
    "            out_ch2.append(emg_ch2[pos])\n",
    "            out_order.append(int(i/3 + 1))\n",
    "            out_actions.append(int(action_list[int(i/3)]))\n",
    "            out_status.append(1)\n",
    "\n",
    "        for pos in range(mid_pos, end_pos):\n",
    "            out_timestamps.append(timestamps[pos])\n",
    "            out_ch1.append(emg_ch1[pos])\n",
    "            out_ch2.append(emg_ch2[pos])\n",
    "            out_order.append(int(i/3 + 1))\n",
    "            out_actions.append(int(action_list[int(i/3)]))\n",
    "            out_status.append(2)\n",
    "        start_flag = 1\n",
    "\n",
    "    elif start_flag == 1:\n",
    "        start_flag = 2\n",
    "    else:\n",
    "        start_flag = 0\n",
    "\n",
    "df = pd.DataFrame({'timestampSync_UNIX': out_timestamps, 'CH1': out_ch1, 'CH2': out_ch2, 'order': out_order, 'actions': out_actions, 'status': out_status})\n",
    "df.to_csv(out_path)"
   ]
  },
  {
   "cell_type": "code",
   "execution_count": null,
   "id": "5d6ea4a7",
   "metadata": {},
   "outputs": [],
   "source": [
    "//start mid endで3つのデータに分ける\n",
    "//labelsはaction じゃんけんの手\n",
    "//ここのトリガーに一番近いemg timeの位置を調べてる"
   ]
  },
  {
   "cell_type": "markdown",
   "id": "5199433e",
   "metadata": {},
   "source": [
    "### Fourier"
   ]
  },
  {
   "cell_type": "code",
   "execution_count": 241,
   "id": "db589a3b",
   "metadata": {},
   "outputs": [],
   "source": [
    "import pywt\n",
    "import numpy as np\n",
    "import matplotlib.pyplot as plt\n",
    "from scipy.fft import fft, ifft\n",
    "from scipy.fft import rfft, irfft, rfftfreq"
   ]
  },
  {
   "cell_type": "code",
   "execution_count": 242,
   "id": "2f39a88d",
   "metadata": {},
   "outputs": [
    {
     "data": {
      "text/plain": [
       "Text(0.5, 0, 'Frequency (Hz)')"
      ]
     },
     "execution_count": 242,
     "metadata": {},
     "output_type": "execute_result"
    },
    {
     "data": {
      "image/png": "[encoded data removed]",
      "text/plain": [
       "<Figure size 1200x480 with 2 Axes>"
      ]
     },
     "metadata": {
      "needs_background": "light"
     },
     "output_type": "display_data"
    }
   ],
   "source": [
    "# segmenting the EMG data\n",
    "\n",
    "file_name = os.path.join(shimmer_path, emg_path[0])\n",
    "\n",
    "df = pd.read_csv(file_name, skiprows=[0, 2])\n",
    "columns = df.columns\n",
    "\n",
    "timestamps = np.array(df[columns[0]])\n",
    "emg_ch1 = np.array(df[columns[2]])\n",
    "emg_ch2 = np.array(df[columns[3]])\n",
    "\n",
    "from matplotlib.pyplot import figure\n",
    "figure(figsize=(15, 6), dpi=80)\n",
    "\n",
    "# Number of samples in normalized_tone\n",
    "N_ch1 = emg_ch1.shape[0]\n",
    "N_ch2 = emg_ch2.shape[0]\n",
    "sample_rate = 512\n",
    "\n",
    "yf_ch1 = rfft(emg_ch1)\n",
    "xf_ch1 = rfftfreq(N_ch1, 1 / sample_rate)\n",
    "\n",
    "yf_ch2 = rfft(emg_ch2)\n",
    "xf_ch2 = rfftfreq(N_ch2, 1 / sample_rate)\n",
    "\n",
    "start_freq = 5\n",
    "start_pos_ch1 = np.argwhere(xf_ch1 > start_freq)[0, 0]\n",
    "start_pos_ch2 = np.argwhere(xf_ch2 > start_freq)[0, 0]\n",
    "plt.subplot(2, 1, 1)\n",
    "plt.plot(xf_ch1[start_pos_ch1:], np.abs(yf_ch1[start_pos_ch1:]))\n",
    "plt.ylabel('Power')\n",
    "plt.xlabel('Frequency (Hz)')\n",
    "\n",
    "plt.subplot(2, 1, 2)\n",
    "plt.plot(xf_ch2[start_pos_ch2:], np.abs(yf_ch2[start_pos_ch2:]))\n",
    "plt.ylabel('Power')\n",
    "plt.xlabel('Frequency (Hz)')"
   ]
  },
  {
   "cell_type": "code",
   "execution_count": null,
   "id": "8ac88432",
   "metadata": {},
   "outputs": [],
   "source": []
  },
  {
   "cell_type": "code",
   "execution_count": null,
   "id": "993b15d6",
   "metadata": {},
   "outputs": [],
   "source": []
  },
  {
   "cell_type": "code",
   "execution_count": null,
   "id": "e33b391a",
   "metadata": {},
   "outputs": [],
   "source": []
  },
  {
   "cell_type": "code",
   "execution_count": null,
   "id": "b764269e",
   "metadata": {},
   "outputs": [],
   "source": []
  },
  {
   "cell_type": "code",
   "execution_count": null,
   "id": "538d828c",
   "metadata": {},
   "outputs": [],
   "source": []
  }
 ],
 "metadata": {
  "kernelspec": {
   "display_name": "Python 3 (ipykernel)",
   "language": "python",
   "name": "python3"
  },
  "language_info": {
   "codemirror_mode": {
    "name": "ipython",
    "version": 3
   },
   "file_extension": ".py",
   "mimetype": "text/x-python",
   "name": "python",
   "nbconvert_exporter": "python",
   "pygments_lexer": "ipython3",
   "version": "3.8.15"
  }
 },
 "nbformat": 4,
 "nbformat_minor": 5
}
